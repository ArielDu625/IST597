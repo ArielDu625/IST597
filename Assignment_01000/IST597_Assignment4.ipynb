{
  "nbformat": 4,
  "nbformat_minor": 0,
  "metadata": {
    "colab": {
      "name": "IST597-Assignment4.ipynb",
      "provenance": [],
      "collapsed_sections": []
    },
    "kernelspec": {
      "name": "python3",
      "display_name": "Python 3"
    },
    "language_info": {
      "name": "python"
    },
    "accelerator": "GPU"
  },
  "cells": [
    {
      "cell_type": "code",
      "metadata": {
        "id": "t9rOiQPuwLCL"
      },
      "source": [
        "import os\n",
        "import time\n",
        "import numpy as np\n",
        "import tensorflow as tf\n",
        "from tensorflow import keras\n",
        "from sklearn.model_selection import train_test_split, KFold\n",
        "import matplotlib.pyplot as plt"
      ],
      "execution_count": 1,
      "outputs": []
    },
    {
      "cell_type": "code",
      "source": [
        "tf.__version__"
      ],
      "metadata": {
        "colab": {
          "base_uri": "https://localhost:8080/",
          "height": 35
        },
        "id": "Yvj0wq52FfKH",
        "outputId": "1f737355-2cfb-4e2f-bb07-064796056ee9"
      },
      "execution_count": 2,
      "outputs": [
        {
          "output_type": "execute_result",
          "data": {
            "text/plain": [
              "'2.8.0'"
            ],
            "application/vnd.google.colaboratory.intrinsic+json": {
              "type": "string"
            }
          },
          "metadata": {},
          "execution_count": 2
        }
      ]
    },
    {
      "cell_type": "markdown",
      "source": [
        "### define BN layer for MLP"
      ],
      "metadata": {
        "id": "U1eEzs6IWc9P"
      }
    },
    {
      "cell_type": "code",
      "source": [
        "class BNLayer(keras.layers.Layer):\n",
        "    def __init__(self, dim, epsilon=10e-8, momentum=0.99):\n",
        "        super(BNLayer, self).__init__()\n",
        "        self.epsilon = epsilon\n",
        "        self.momentum = momentum\n",
        "        self.dim = dim\n",
        "\n",
        "        self.it_call = 0\n",
        "        self.batch_size = 0\n",
        "\n",
        "        self.mu = self.add_weight(\"mu\", shape=[self.dim,], \n",
        "                                initializer=\"zeros\",\n",
        "                                trainable=False)\n",
        "        self.var = self.add_weight(\"var\", shape=[self.dim,], \n",
        "                                   initializer=\"zeros\",\n",
        "                                   trainable=False)\n",
        "\n",
        "        self.gamma = self.add_weight(\"gamma\", shape=[1, self.dim],\n",
        "                                     initializer=\"random_normal\",\n",
        "                                     trainable=True)\n",
        "        self.beta = self.add_weight(\"beta\", shape=[1, self.dim],\n",
        "                                    initializer=\"random_normal\",\n",
        "                                    trainable=True)\n",
        "        \n",
        "    \n",
        "    def call(self, inputs, training=True):\n",
        "        \"\"\"forward\n",
        "        BN(x) = gamma * ((x - mu) / sqrt(var + epsilon)) + beta\n",
        "        \"\"\"\n",
        "\n",
        "        self.it_call += 1\n",
        "\n",
        "        if training:\n",
        "            if self.batch_size == 0:\n",
        "                self.batch_size = inputs.shape[0]\n",
        "            \n",
        "            # training: compute BN \n",
        "            batch_mu = tf.math.reduce_mean(inputs, axis=0)\n",
        "            batch_var = tf.math.reduce_variance(inputs, axis=0)\n",
        "            \n",
        "            normalized_inputs = tf.math.divide((inputs - batch_mu), tf.math.sqrt(batch_var + self.epsilon))\n",
        "            bn_inputs = tf.math.multiply(self.gamma, normalized_inputs) + self.beta\n",
        "\n",
        "            # update mu and var\n",
        "            if inputs.shape[0] == self.batch_size:\n",
        "                running_mu = batch_mu\n",
        "                running_var = batch_var\n",
        "            else:\n",
        "                # the last batch in training may have sample less than batch size\n",
        "                running_mu = batch_mu / inputs.shape[0] * self.batch_size\n",
        "                running_mu = batch_var / inputs.shape[0] * self.batch_size\n",
        "            \n",
        "            cur_mu = running_mu * (self.momentum / self.it_call) + self.mu * (1 - (self.momentum/self.it_call))\n",
        "            self.mu.assign(cur_mu)\n",
        "            cur_var = running_var * (self.momentum / self.it_call) + self.var * (1 - (self.momentum/self.it_call))\n",
        "            self.var.assign(cur_var)\n",
        "\n",
        "\n",
        "        else:\n",
        "            normalized_inputs = tf.math.divide((inputs - self.mu), tf.math.sqrt(self.var + self.epsilon))\n",
        "            bn_inputs = tf.math.multiply(self.gamma, normalized_inputs) + self.beta\n",
        "        \n",
        "        return bn_inputs\n",
        "\n",
        "\n",
        "    "
      ],
      "metadata": {
        "id": "lfchES4-WgBM"
      },
      "execution_count": 10,
      "outputs": []
    },
    {
      "cell_type": "markdown",
      "source": [
        "### define MLP"
      ],
      "metadata": {
        "id": "QsRZmbg4t-vG"
      }
    },
    {
      "cell_type": "code",
      "source": [
        "class MLP(tf.keras.Model):\n",
        "    def __init__(self, input_size, output_size, hidden_size,\n",
        "                 before_activation_bn=True):\n",
        "        super(MLP, self).__init__()\n",
        "\n",
        "        self.input_size = input_size\n",
        "        self.output_size = output_size\n",
        "        self.hidden_size = hidden_size\n",
        "        self.before_activation_bn = before_activation_bn\n",
        "\n",
        "        self.input_layer = keras.layers.Dense(hidden_size, activation=None)\n",
        "        self.hidden1 = keras.layers.Dense(hidden_size, activation=None)\n",
        "        self.bn1 = BNLayer(hidden_size)\n",
        "        self.hidden2 = keras.layers.Dense(hidden_size, activation=None)\n",
        "        self.bn2 = BNLayer(hidden_size)\n",
        "        self.output_layer = keras.layers.Dense(output_size, activation=None)\n",
        "        \n",
        "\n",
        "    def call(self, inputs, training=True):\n",
        "        x = tf.cast(inputs, dtype=tf.float32)\n",
        "        x = self.input_layer(inputs)\n",
        "        x = tf.nn.relu(x)\n",
        "\n",
        "        if self.before_activation_bn:\n",
        "            x = self.hidden1(x)\n",
        "            x = self.bn1(x, training=training)\n",
        "            x = tf.nn.relu(x)\n",
        "            x = self.hidden2(x)\n",
        "            x = self.bn2(x, training=training)\n",
        "            x = tf.nn.relu(x)\n",
        "        else:\n",
        "            x = self.hidden1(x)\n",
        "            x = tf.nn.relu(x)\n",
        "            x = self.bn1(x, training=training)\n",
        "            x = self.hidden2(x)\n",
        "            x = tf.nn.relu(x)\n",
        "            x = self.bn2(x, training=training)\n",
        "        \n",
        "        x = self.output_layer(x)\n",
        "        return x\n",
        "    "
      ],
      "metadata": {
        "id": "inaomPeaUAiI"
      },
      "execution_count": 11,
      "outputs": []
    },
    {
      "cell_type": "markdown",
      "source": [
        "### Report performance of MLP model"
      ],
      "metadata": {
        "id": "PeN0jz79xPEy"
      }
    },
    {
      "cell_type": "code",
      "source": [
        "(x_train, y_train), (x_test, y_test) = tf.keras.datasets.fashion_mnist.load_data()\n",
        "x_train = x_train.astype('float32') / 255\n",
        "x_test = x_test.astype('float32') / 255\n",
        "x_train = tf.reshape(x_train, (x_train.shape[0], -1))\n",
        "x_test = tf.reshape(x_test, (x_test.shape[0], -1))\n",
        "\n",
        "x_val = x_train[50000:60000]\n",
        "x_train = x_train[0:50000]\n",
        "y_val = y_train[50000:60000]\n",
        "y_train = y_train[0:50000]\n",
        "\n",
        "print(x_train.shape)\n",
        "print(y_train.shape)\n",
        "print(x_test.shape)\n",
        "print(y_test.shape)\n",
        "print(x_val.shape)\n",
        "print(y_val.shape)"
      ],
      "metadata": {
        "colab": {
          "base_uri": "https://localhost:8080/"
        },
        "id": "uOsq8AJAVn8a",
        "outputId": "ccc65808-a391-402e-ed87-147a227eabd5"
      },
      "execution_count": 12,
      "outputs": [
        {
          "output_type": "stream",
          "name": "stdout",
          "text": [
            "(50000, 784)\n",
            "(50000,)\n",
            "(10000, 784)\n",
            "(10000,)\n",
            "(10000, 784)\n",
            "(10000,)\n"
          ]
        }
      ]
    },
    {
      "cell_type": "markdown",
      "source": [
        "#### apply BN after pre-activation: g(BN(f(x)))"
      ],
      "metadata": {
        "id": "G5uQp-w7TiUV"
      }
    },
    {
      "cell_type": "code",
      "source": [
        "input_size = 28 * 28\n",
        "output_size = 10\n",
        "hidden_size = 1024\n",
        "before_activation_bn = True\n",
        "\n",
        "accuracy = []\n",
        "for i in range(3):\n",
        "    tf.random.set_seed(i + 12)\n",
        "    model = MLP(input_size, output_size, hidden_size, before_activation_bn=before_activation_bn)\n",
        "\n",
        "    optimizer = keras.optimizers.Adam(learning_rate=1e-4)\n",
        "    loss_fn = keras.losses.SparseCategoricalCrossentropy(from_logits=True)\n",
        "    acc = keras.metrics.SparseCategoricalAccuracy(name=\"acc\")\n",
        "\n",
        "    model.compile(optimizer, loss=loss_fn, metrics=[acc])\n",
        "    callback = tf.keras.callbacks.EarlyStopping(monitor='val_loss', patience=3)\n",
        "    history = model.fit(x_train, y_train, epochs=20, batch_size=128,\n",
        "              validation_data=(x_val, y_val),\n",
        "              callbacks=[callback])\n",
        "\n",
        "    _, test_accuracy = model.evaluate(x_test, y_test, batch_size=len(x_test))\n",
        "    accuracy.append(test_accuracy)\n"
      ],
      "metadata": {
        "colab": {
          "base_uri": "https://localhost:8080/"
        },
        "id": "TeOesJdjVJDV",
        "outputId": "f1897254-c7a7-4083-9fc9-94942d92676a"
      },
      "execution_count": 14,
      "outputs": [
        {
          "output_type": "stream",
          "name": "stdout",
          "text": [
            "Epoch 1/20\n",
            "391/391 [==============================] - 8s 14ms/step - loss: 1.0788 - acc: 0.8043 - val_loss: 0.5340 - val_acc: 0.8590\n",
            "Epoch 2/20\n",
            "391/391 [==============================] - 4s 10ms/step - loss: 0.4153 - acc: 0.8752 - val_loss: 0.3652 - val_acc: 0.8780\n",
            "Epoch 3/20\n",
            "391/391 [==============================] - 4s 10ms/step - loss: 0.3146 - acc: 0.8936 - val_loss: 0.3234 - val_acc: 0.8858\n",
            "Epoch 4/20\n",
            "391/391 [==============================] - 4s 10ms/step - loss: 0.2704 - acc: 0.9048 - val_loss: 0.3056 - val_acc: 0.8878\n",
            "Epoch 5/20\n",
            "391/391 [==============================] - 4s 10ms/step - loss: 0.2399 - acc: 0.9149 - val_loss: 0.3063 - val_acc: 0.8868\n",
            "Epoch 6/20\n",
            "391/391 [==============================] - 4s 10ms/step - loss: 0.2134 - acc: 0.9240 - val_loss: 0.3035 - val_acc: 0.8900\n",
            "Epoch 7/20\n",
            "391/391 [==============================] - 4s 10ms/step - loss: 0.1914 - acc: 0.9311 - val_loss: 0.2930 - val_acc: 0.8918\n",
            "Epoch 8/20\n",
            "391/391 [==============================] - 4s 11ms/step - loss: 0.1696 - acc: 0.9401 - val_loss: 0.2976 - val_acc: 0.8951\n",
            "Epoch 9/20\n",
            "391/391 [==============================] - 4s 10ms/step - loss: 0.1511 - acc: 0.9460 - val_loss: 0.3224 - val_acc: 0.8882\n",
            "Epoch 10/20\n",
            "391/391 [==============================] - 4s 10ms/step - loss: 0.1372 - acc: 0.9510 - val_loss: 0.3068 - val_acc: 0.8962\n",
            "1/1 [==============================] - 0s 227ms/step - loss: 0.3303 - acc: 0.8926\n",
            "Epoch 1/20\n",
            "391/391 [==============================] - 8s 16ms/step - loss: 1.0872 - acc: 0.8004 - val_loss: 0.5367 - val_acc: 0.8580\n",
            "Epoch 2/20\n",
            "391/391 [==============================] - 5s 14ms/step - loss: 0.4207 - acc: 0.8726 - val_loss: 0.3696 - val_acc: 0.8748\n",
            "Epoch 3/20\n",
            "391/391 [==============================] - 6s 14ms/step - loss: 0.3199 - acc: 0.8914 - val_loss: 0.3258 - val_acc: 0.8873\n",
            "Epoch 4/20\n",
            "391/391 [==============================] - 6s 14ms/step - loss: 0.2738 - acc: 0.9035 - val_loss: 0.3104 - val_acc: 0.8874\n",
            "Epoch 5/20\n",
            "391/391 [==============================] - 4s 11ms/step - loss: 0.2428 - acc: 0.9126 - val_loss: 0.2976 - val_acc: 0.8925\n",
            "Epoch 6/20\n",
            "391/391 [==============================] - 4s 10ms/step - loss: 0.2171 - acc: 0.9235 - val_loss: 0.2992 - val_acc: 0.8914\n",
            "Epoch 7/20\n",
            "391/391 [==============================] - 4s 10ms/step - loss: 0.1950 - acc: 0.9294 - val_loss: 0.3096 - val_acc: 0.8905\n",
            "Epoch 8/20\n",
            "391/391 [==============================] - 5s 12ms/step - loss: 0.1746 - acc: 0.9369 - val_loss: 0.3041 - val_acc: 0.8905\n",
            "1/1 [==============================] - 0s 243ms/step - loss: 0.3284 - acc: 0.8868\n",
            "Epoch 1/20\n",
            "391/391 [==============================] - 6s 11ms/step - loss: 1.0744 - acc: 0.7961 - val_loss: 0.5449 - val_acc: 0.8553\n",
            "Epoch 2/20\n",
            "391/391 [==============================] - 4s 10ms/step - loss: 0.4181 - acc: 0.8743 - val_loss: 0.3742 - val_acc: 0.8746\n",
            "Epoch 3/20\n",
            "391/391 [==============================] - 4s 11ms/step - loss: 0.3165 - acc: 0.8926 - val_loss: 0.3237 - val_acc: 0.8837\n",
            "Epoch 4/20\n",
            "391/391 [==============================] - 5s 12ms/step - loss: 0.2728 - acc: 0.9047 - val_loss: 0.3111 - val_acc: 0.8876\n",
            "Epoch 5/20\n",
            "391/391 [==============================] - 6s 15ms/step - loss: 0.2401 - acc: 0.9144 - val_loss: 0.3180 - val_acc: 0.8835\n",
            "Epoch 6/20\n",
            "391/391 [==============================] - 6s 16ms/step - loss: 0.2134 - acc: 0.9235 - val_loss: 0.2894 - val_acc: 0.8972\n",
            "Epoch 7/20\n",
            "391/391 [==============================] - 6s 16ms/step - loss: 0.1899 - acc: 0.9317 - val_loss: 0.3063 - val_acc: 0.8908\n",
            "Epoch 8/20\n",
            "391/391 [==============================] - 6s 16ms/step - loss: 0.1732 - acc: 0.9393 - val_loss: 0.2910 - val_acc: 0.8964\n",
            "Epoch 9/20\n",
            "391/391 [==============================] - 6s 16ms/step - loss: 0.1545 - acc: 0.9444 - val_loss: 0.3046 - val_acc: 0.8937\n",
            "1/1 [==============================] - 0s 379ms/step - loss: 0.3303 - acc: 0.8909\n"
          ]
        }
      ]
    },
    {
      "cell_type": "code",
      "source": [
        "mean = np.mean(accuracy)\n",
        "var = np.var(accuracy)\n",
        "print(f\"the mean of 3 runs is {mean}, and the variance is {var}\")\n",
        "\n",
        "plt.boxplot(accuracy)"
      ],
      "metadata": {
        "colab": {
          "base_uri": "https://localhost:8080/",
          "height": 425
        },
        "id": "Nw_X-b3l4RvR",
        "outputId": "17ab156b-729c-486b-d40b-84ea20f8dc2d"
      },
      "execution_count": 15,
      "outputs": [
        {
          "output_type": "stream",
          "name": "stdout",
          "text": [
            "the mean of 3 runs is 0.8901000022888184, and the variance is 5.926694463198601e-06\n"
          ]
        },
        {
          "output_type": "execute_result",
          "data": {
            "text/plain": [
              "{'boxes': [<matplotlib.lines.Line2D at 0x7fd3acff5090>],\n",
              " 'caps': [<matplotlib.lines.Line2D at 0x7fd3acf7add0>,\n",
              "  <matplotlib.lines.Line2D at 0x7fd3acee9d50>],\n",
              " 'fliers': [<matplotlib.lines.Line2D at 0x7fd3acee0950>],\n",
              " 'means': [],\n",
              " 'medians': [<matplotlib.lines.Line2D at 0x7fd3acee0cd0>],\n",
              " 'whiskers': [<matplotlib.lines.Line2D at 0x7fd3aceade50>,\n",
              "  <matplotlib.lines.Line2D at 0x7fd4281e5110>]}"
            ]
          },
          "metadata": {},
          "execution_count": 15
        },
        {
          "output_type": "display_data",
          "data": {
            "text/plain": [
              "<Figure size 432x288 with 1 Axes>"
            ],
            "image/png": "[encoded data removed]"
          },
          "metadata": {
            "needs_background": "light"
          }
        }
      ]
    },
    {
      "cell_type": "markdown",
      "source": [
        "#### apply BN after post_activation: BN(g(f(x)))"
      ],
      "metadata": {
        "id": "lIDBHwl6Vx_i"
      }
    },
    {
      "cell_type": "code",
      "source": [
        "input_size = 28 * 28\n",
        "output_size = 10\n",
        "hidden_size = 1024\n",
        "before_activation_bn = False\n",
        "\n",
        "accuracy = []\n",
        "for i in range(3):\n",
        "    tf.random.set_seed(i + 10)\n",
        "    model = MLP(input_size, output_size, hidden_size, before_activation_bn=before_activation_bn)\n",
        "\n",
        "    optimizer = keras.optimizers.Adam(learning_rate=1e-4)\n",
        "    loss_fn = keras.losses.SparseCategoricalCrossentropy(from_logits=True)\n",
        "    acc = keras.metrics.SparseCategoricalAccuracy(name=\"acc\")\n",
        "\n",
        "    model.compile(optimizer, loss=loss_fn, metrics=[acc])\n",
        "    callback = tf.keras.callbacks.EarlyStopping(monitor='val_loss', patience=3)\n",
        "    history = model.fit(x_train, y_train, epochs=20, batch_size=128,\n",
        "              validation_data=(x_val, y_val),\n",
        "              callbacks=[callback])\n",
        "\n",
        "    _, test_accuracy = model.evaluate(x_test, y_test, batch_size=len(x_test))\n",
        "    accuracy.append(test_accuracy)\n"
      ],
      "metadata": {
        "colab": {
          "base_uri": "https://localhost:8080/"
        },
        "id": "2nfcbh1bV5lT",
        "outputId": "9bc7d870-c150-46b4-9611-a832257a23ca"
      },
      "execution_count": 18,
      "outputs": [
        {
          "output_type": "stream",
          "name": "stdout",
          "text": [
            "Epoch 1/20\n",
            "391/391 [==============================] - 6s 11ms/step - loss: 0.9098 - acc: 0.8046 - val_loss: 0.4968 - val_acc: 0.8585\n",
            "Epoch 2/20\n",
            "391/391 [==============================] - 4s 10ms/step - loss: 0.3955 - acc: 0.8734 - val_loss: 0.3752 - val_acc: 0.8698\n",
            "Epoch 3/20\n",
            "391/391 [==============================] - 4s 10ms/step - loss: 0.3233 - acc: 0.8885 - val_loss: 0.3464 - val_acc: 0.8792\n",
            "Epoch 4/20\n",
            "391/391 [==============================] - 4s 11ms/step - loss: 0.2886 - acc: 0.8982 - val_loss: 0.3448 - val_acc: 0.8837\n",
            "Epoch 5/20\n",
            "391/391 [==============================] - 6s 15ms/step - loss: 0.2645 - acc: 0.9044 - val_loss: 0.3365 - val_acc: 0.8815\n",
            "Epoch 6/20\n",
            "391/391 [==============================] - 6s 15ms/step - loss: 0.2465 - acc: 0.9110 - val_loss: 0.3195 - val_acc: 0.8836\n",
            "Epoch 7/20\n",
            "391/391 [==============================] - 6s 15ms/step - loss: 0.2297 - acc: 0.9159 - val_loss: 0.3414 - val_acc: 0.8853\n",
            "Epoch 8/20\n",
            "391/391 [==============================] - 5s 12ms/step - loss: 0.2130 - acc: 0.9216 - val_loss: 0.3714 - val_acc: 0.8793\n",
            "Epoch 9/20\n",
            "391/391 [==============================] - 4s 10ms/step - loss: 0.2095 - acc: 0.9231 - val_loss: 0.3415 - val_acc: 0.8857\n",
            "1/1 [==============================] - 0s 223ms/step - loss: 0.3900 - acc: 0.8774\n",
            "Epoch 1/20\n",
            "391/391 [==============================] - 5s 11ms/step - loss: 0.9103 - acc: 0.8040 - val_loss: 0.4754 - val_acc: 0.8582\n",
            "Epoch 2/20\n",
            "391/391 [==============================] - 4s 11ms/step - loss: 0.3956 - acc: 0.8739 - val_loss: 0.3741 - val_acc: 0.8751\n",
            "Epoch 3/20\n",
            "391/391 [==============================] - 4s 11ms/step - loss: 0.3257 - acc: 0.8870 - val_loss: 0.3644 - val_acc: 0.8732\n",
            "Epoch 4/20\n",
            "391/391 [==============================] - 4s 10ms/step - loss: 0.2924 - acc: 0.8956 - val_loss: 0.3428 - val_acc: 0.8810\n",
            "Epoch 5/20\n",
            "391/391 [==============================] - 4s 10ms/step - loss: 0.2664 - acc: 0.9034 - val_loss: 0.3531 - val_acc: 0.8850\n",
            "Epoch 6/20\n",
            "391/391 [==============================] - 4s 11ms/step - loss: 0.2527 - acc: 0.9069 - val_loss: 0.3509 - val_acc: 0.8866\n",
            "Epoch 7/20\n",
            "391/391 [==============================] - 4s 10ms/step - loss: 0.2344 - acc: 0.9142 - val_loss: 0.3900 - val_acc: 0.8813\n",
            "1/1 [==============================] - 0s 216ms/step - loss: 0.4043 - acc: 0.8773\n",
            "Epoch 1/20\n",
            "391/391 [==============================] - 5s 11ms/step - loss: 0.9026 - acc: 0.8063 - val_loss: 0.4813 - val_acc: 0.8620\n",
            "Epoch 2/20\n",
            "391/391 [==============================] - 4s 11ms/step - loss: 0.3934 - acc: 0.8737 - val_loss: 0.3846 - val_acc: 0.8740\n",
            "Epoch 3/20\n",
            "391/391 [==============================] - 4s 11ms/step - loss: 0.3224 - acc: 0.8891 - val_loss: 0.3430 - val_acc: 0.8791\n",
            "Epoch 4/20\n",
            "391/391 [==============================] - 4s 10ms/step - loss: 0.2879 - acc: 0.8973 - val_loss: 0.3348 - val_acc: 0.8797\n",
            "Epoch 5/20\n",
            "391/391 [==============================] - 4s 10ms/step - loss: 0.2669 - acc: 0.9041 - val_loss: 0.3330 - val_acc: 0.8839\n",
            "Epoch 6/20\n",
            "391/391 [==============================] - 4s 11ms/step - loss: 0.2448 - acc: 0.9104 - val_loss: 0.3317 - val_acc: 0.8840\n",
            "Epoch 7/20\n",
            "391/391 [==============================] - 4s 11ms/step - loss: 0.2294 - acc: 0.9163 - val_loss: 0.3268 - val_acc: 0.8866\n",
            "Epoch 8/20\n",
            "391/391 [==============================] - 4s 10ms/step - loss: 0.2122 - acc: 0.9231 - val_loss: 0.3124 - val_acc: 0.8932\n",
            "Epoch 9/20\n",
            "391/391 [==============================] - 4s 11ms/step - loss: 0.2009 - acc: 0.9247 - val_loss: 0.3803 - val_acc: 0.8837\n",
            "Epoch 10/20\n",
            "391/391 [==============================] - 4s 10ms/step - loss: 0.1861 - acc: 0.9318 - val_loss: 0.3338 - val_acc: 0.8929\n",
            "Epoch 11/20\n",
            "391/391 [==============================] - 4s 10ms/step - loss: 0.1804 - acc: 0.9331 - val_loss: 0.3557 - val_acc: 0.8878\n",
            "1/1 [==============================] - 0s 227ms/step - loss: 0.3833 - acc: 0.8806\n"
          ]
        }
      ]
    },
    {
      "cell_type": "code",
      "source": [
        "mean = np.mean(accuracy)\n",
        "var = np.var(accuracy)\n",
        "print(f\"the mean of 3 runs is {mean}, and the variance is {var}\")\n",
        "\n",
        "plt.boxplot(accuracy)"
      ],
      "metadata": {
        "colab": {
          "base_uri": "https://localhost:8080/",
          "height": 425
        },
        "id": "Kleywo2YWfAo",
        "outputId": "ec9d118f-309f-4baf-8759-8845c42358c6"
      },
      "execution_count": 19,
      "outputs": [
        {
          "output_type": "stream",
          "name": "stdout",
          "text": [
            "the mean of 3 runs is 0.8784333268801371, and the variance is 2.3488485404578164e-06\n"
          ]
        },
        {
          "output_type": "execute_result",
          "data": {
            "text/plain": [
              "{'boxes': [<matplotlib.lines.Line2D at 0x7fd3ae661e10>],\n",
              " 'caps': [<matplotlib.lines.Line2D at 0x7fd3ae669e90>,\n",
              "  <matplotlib.lines.Line2D at 0x7fd3ae66f410>],\n",
              " 'fliers': [<matplotlib.lines.Line2D at 0x7fd3ae66fed0>],\n",
              " 'means': [],\n",
              " 'medians': [<matplotlib.lines.Line2D at 0x7fd3ae66f990>],\n",
              " 'whiskers': [<matplotlib.lines.Line2D at 0x7fd3ad0da290>,\n",
              "  <matplotlib.lines.Line2D at 0x7fd3ae669950>]}"
            ]
          },
          "metadata": {},
          "execution_count": 19
        },
        {
          "output_type": "display_data",
          "data": {
            "text/plain": [
              "<Figure size 432x288 with 1 Axes>"
            ],
            "image/png": "[encoded data removed]"
          },
          "metadata": {
            "needs_background": "light"
          }
        }
      ]
    },
    {
      "cell_type": "markdown",
      "source": [
        "### define BN layer for CNN"
      ],
      "metadata": {
        "id": "Z_FhZ-6jXPpi"
      }
    },
    {
      "cell_type": "code",
      "source": [
        "class BNLayer(keras.layers.Layer):\n",
        "    def __init__(self, dim, epsilon=10e-8, momentum=0.99):\n",
        "        super(BNLayer, self).__init__()\n",
        "        self.epsilon = epsilon\n",
        "        self.momentum = momentum\n",
        "        self.dim = dim\n",
        "\n",
        "        self.it_call = 0\n",
        "        self.batch_size = 0\n",
        "\n",
        "        self.mu = self.add_weight(\"mu\", shape=[self.dim,], \n",
        "                                initializer=\"zeros\",\n",
        "                                trainable=False)\n",
        "        self.var = self.add_weight(\"var\", shape=[self.dim,], \n",
        "                                   initializer=\"zeros\",\n",
        "                                   trainable=False)\n",
        "\n",
        "        self.gamma = self.add_weight(\"gamma\", shape=[1, self.dim],\n",
        "                                     initializer=\"random_normal\",\n",
        "                                     trainable=True)\n",
        "        self.beta = self.add_weight(\"beta\", shape=[1, self.dim],\n",
        "                                    initializer=\"random_normal\",\n",
        "                                    trainable=True)\n",
        "        \n",
        "    \n",
        "    def call(self, inputs, training=True):\n",
        "        \"\"\"forward\n",
        "        BN(x) = gamma * ((x - mu) / sqrt(var + epsilon)) + beta\n",
        "        \"\"\"\n",
        "\n",
        "        self.it_call += 1\n",
        "\n",
        "        if training:\n",
        "            if self.batch_size == 0:\n",
        "                self.batch_size = inputs.shape[0]\n",
        "            \n",
        "            # training: compute BN \n",
        "            batch_mu = tf.math.reduce_mean(inputs, axis=(0,1,2))\n",
        "            batch_var = tf.math.reduce_variance(inputs, axis=(0,1,2))\n",
        "            \n",
        "            normalized_inputs = tf.math.divide((inputs - batch_mu), tf.math.sqrt(batch_var + self.epsilon))\n",
        "            bn_inputs = tf.math.multiply(self.gamma, normalized_inputs) + self.beta\n",
        "\n",
        "            # update mu and var\n",
        "            if inputs.shape[0] == self.batch_size:\n",
        "                running_mu = batch_mu\n",
        "                running_var = batch_var\n",
        "            else:\n",
        "                # the last batch in training may have sample less than batch size\n",
        "                running_mu = batch_mu / inputs.shape[0] * self.batch_size\n",
        "                running_mu = batch_var / inputs.shape[0] * self.batch_size\n",
        "            \n",
        "            cur_mu = running_mu * (self.momentum / self.it_call) + self.mu * (1 - (self.momentum/self.it_call))\n",
        "            self.mu.assign(cur_mu)\n",
        "            cur_var = running_var * (self.momentum / self.it_call) + self.var * (1 - (self.momentum/self.it_call))\n",
        "            self.var.assign(cur_var)\n",
        "\n",
        "\n",
        "        else:\n",
        "            normalized_inputs = tf.math.divide((inputs - self.mu), tf.math.sqrt(self.var + self.epsilon))\n",
        "            bn_inputs = tf.math.multiply(self.gamma, normalized_inputs) + self.beta\n",
        "        \n",
        "        return bn_inputs"
      ],
      "metadata": {
        "id": "eaIWoKg3XXHM"
      },
      "execution_count": 20,
      "outputs": []
    },
    {
      "cell_type": "markdown",
      "source": [
        "### define CNN"
      ],
      "metadata": {
        "id": "SydaG0gpXZZK"
      }
    },
    {
      "cell_type": "code",
      "source": [
        "class ImageRecognitionCNN(tf.keras.Model):\n",
        "    def __init__(self, num_classes,\n",
        "                 filter=64,\n",
        "                 kernel=3, \n",
        "                 before_activation_bn=True):\n",
        "        super(ImageRecognitionCNN, self).__init__()\n",
        "        self.filter=64\n",
        "        self.kernel=3\n",
        "        self.before_activation_bn = before_activation_bn\n",
        "\n",
        "        # Initialize layers\n",
        "        self.conv1 = tf.keras.layers.Conv2D(filter, kernel, padding='same', activation=None)\n",
        "        self.conv2 = tf.keras.layers.Conv2D(filter, kernel, padding='same', activation=None)\n",
        "        self.bn1 = BNLayer(filter)\n",
        "        self.pool1 = tf.keras.layers.MaxPool2D()\n",
        "        self.conv3 = tf.keras.layers.Conv2D(filter, kernel, padding='same', activation=None)\n",
        "        self.bn2 = BNLayer(filter)\n",
        "        self.conv4 = tf.keras.layers.Conv2D(filter, kernel, padding='same', activation=None)\n",
        "        self.bn3 = BNLayer(filter)\n",
        "        self.conv8 = tf.keras.layers.Conv2D(num_classes, 1, padding='same', activation=None)\n",
        "    \n",
        "\n",
        "    def call(self, inputs, training=True):\n",
        "        x = self.conv1(inputs)\n",
        "        x = tf.nn.relu(x)\n",
        "        x = self.pool1(x)\n",
        "        if self.before_activation_bn:\n",
        "            x = self.conv2(x)\n",
        "            x = self.bn1(x)\n",
        "            x = tf.nn.relu(x)\n",
        "            x = self.pool1(x)\n",
        "\n",
        "            x = self.conv3(x)\n",
        "            x = self.bn2(x)\n",
        "            x = tf.nn.relu(x)\n",
        "            x = self.pool1(x)\n",
        "\n",
        "            x = self.conv4(x)\n",
        "            x = self.bn3(x)\n",
        "            x = tf.nn.relu(x)\n",
        "            x = self.pool1(x)\n",
        "            x = self.conv8(x)\n",
        "        else:\n",
        "            x = self.conv2(x)\n",
        "            x = tf.nn.relu(x)\n",
        "            x = self.bn1(x)\n",
        "            x = self.pool1(x)\n",
        "\n",
        "            x = self.conv3(x)\n",
        "            x = tf.nn.relu(x)\n",
        "            x = self.bn2(x)\n",
        "            x = self.pool1(x)\n",
        "\n",
        "            x = self.conv4(x)\n",
        "            x = tf.nn.relu(x)\n",
        "            x = self.bn3(x)\n",
        "            x = self.pool1(x)\n",
        "            x = self.conv8(x)\n",
        "        \n",
        "        x = tf.reshape(x, (-1, 10))\n",
        "        return x\n",
        "        "
      ],
      "metadata": {
        "id": "m-qsgkB0Xa-c"
      },
      "execution_count": 24,
      "outputs": []
    },
    {
      "cell_type": "markdown",
      "source": [
        "### Report performance of CNN model"
      ],
      "metadata": {
        "id": "Ic6g-ikAxmzb"
      }
    },
    {
      "cell_type": "code",
      "source": [
        "(x_train, y_train), (x_test, y_test) = tf.keras.datasets.fashion_mnist.load_data()\n",
        "\n",
        "x_train = x_train.astype('float32').reshape(-1,28,28,1) / 255\n",
        "x_test = x_test.astype('float32').reshape(-1,28,28,1) / 255\n",
        "\n",
        "x_val = x_train[50000:60000]\n",
        "x_train = x_train[0:50000]\n",
        "\n",
        "y_val = y_train[50000:60000]\n",
        "y_train = y_train[0:50000]\n",
        "\n",
        "print(x_train.shape)\n",
        "print(y_train.shape)\n",
        "print(x_test.shape)\n",
        "print(y_test.shape)\n",
        "print(x_val.shape)\n",
        "print(y_val.shape)"
      ],
      "metadata": {
        "colab": {
          "base_uri": "https://localhost:8080/"
        },
        "id": "3nIb1--vqxuS",
        "outputId": "368bbffa-400a-4405-f95d-e537bff2cbe5"
      },
      "execution_count": 22,
      "outputs": [
        {
          "output_type": "stream",
          "name": "stdout",
          "text": [
            "(50000, 28, 28, 1)\n",
            "(50000,)\n",
            "(10000, 28, 28, 1)\n",
            "(10000,)\n",
            "(10000, 28, 28, 1)\n",
            "(10000,)\n"
          ]
        }
      ]
    },
    {
      "cell_type": "markdown",
      "source": [
        "#### apply BN after pre-activation: g(BN(f(x)))"
      ],
      "metadata": {
        "id": "BHMgiXgbXbf6"
      }
    },
    {
      "cell_type": "code",
      "source": [
        "num_classes = 10\n",
        "filter=64\n",
        "kernel=3 \n",
        "before_activation_bn = True\n",
        "\n",
        "accuracy = []\n",
        "for i in range(3):\n",
        "    tf.random.set_seed(i + 12)\n",
        "    model = ImageRecognitionCNN(num_classes, \n",
        "                                filter=filter,\n",
        "                                kernel=kernel, \n",
        "                                before_activation_bn=before_activation_bn)\n",
        "\n",
        "    optimizer = keras.optimizers.Adam(learning_rate=1e-4)\n",
        "    loss_fn = keras.losses.SparseCategoricalCrossentropy(from_logits=True)\n",
        "    acc = keras.metrics.SparseCategoricalAccuracy(name=\"acc\")\n",
        "\n",
        "    model.compile(optimizer, loss=loss_fn, metrics=[acc])\n",
        "    callback = keras.callbacks.EarlyStopping(monitor='val_loss', patience=3)\n",
        "    history = model.fit(x_train, y_train, epochs=50, batch_size=128,\n",
        "              validation_data=(x_val, y_val),\n",
        "              callbacks=[callback])\n",
        "\n",
        "    _, test_accuracy = model.evaluate(x_test, y_test, batch_size=len(x_test))\n",
        "    accuracy.append(test_accuracy)"
      ],
      "metadata": {
        "colab": {
          "base_uri": "https://localhost:8080/"
        },
        "id": "M1bWXAolqhIg",
        "outputId": "c9a9a059-15b0-4259-ee16-e6bccdd5710b"
      },
      "execution_count": 25,
      "outputs": [
        {
          "output_type": "stream",
          "name": "stdout",
          "text": [
            "Epoch 1/50\n",
            "391/391 [==============================] - 14s 28ms/step - loss: 1.7471 - acc: 0.6469 - val_loss: 1.2436 - val_acc: 0.7794\n",
            "Epoch 2/50\n",
            "391/391 [==============================] - 12s 31ms/step - loss: 0.9362 - acc: 0.8097 - val_loss: 0.6971 - val_acc: 0.8335\n",
            "Epoch 3/50\n",
            "391/391 [==============================] - 11s 29ms/step - loss: 0.5821 - acc: 0.8534 - val_loss: 0.4907 - val_acc: 0.8663\n",
            "Epoch 4/50\n",
            "391/391 [==============================] - 11s 27ms/step - loss: 0.4265 - acc: 0.8798 - val_loss: 0.3920 - val_acc: 0.8825\n",
            "Epoch 5/50\n",
            "391/391 [==============================] - 11s 27ms/step - loss: 0.3475 - acc: 0.8945 - val_loss: 0.3351 - val_acc: 0.8903\n",
            "Epoch 6/50\n",
            "391/391 [==============================] - 11s 27ms/step - loss: 0.2993 - acc: 0.9045 - val_loss: 0.3022 - val_acc: 0.9016\n",
            "Epoch 7/50\n",
            "391/391 [==============================] - 11s 27ms/step - loss: 0.2686 - acc: 0.9123 - val_loss: 0.2769 - val_acc: 0.9065\n",
            "Epoch 8/50\n",
            "391/391 [==============================] - 11s 27ms/step - loss: 0.2456 - acc: 0.9184 - val_loss: 0.2735 - val_acc: 0.9054\n",
            "Epoch 9/50\n",
            "391/391 [==============================] - 10s 27ms/step - loss: 0.2283 - acc: 0.9231 - val_loss: 0.2519 - val_acc: 0.9120\n",
            "Epoch 10/50\n",
            "391/391 [==============================] - 11s 27ms/step - loss: 0.2135 - acc: 0.9275 - val_loss: 0.2486 - val_acc: 0.9117\n",
            "Epoch 11/50\n",
            "391/391 [==============================] - 10s 26ms/step - loss: 0.2017 - acc: 0.9313 - val_loss: 0.2404 - val_acc: 0.9154\n",
            "Epoch 12/50\n",
            "391/391 [==============================] - 10s 27ms/step - loss: 0.1889 - acc: 0.9358 - val_loss: 0.2384 - val_acc: 0.9176\n",
            "Epoch 13/50\n",
            "391/391 [==============================] - 11s 28ms/step - loss: 0.1797 - acc: 0.9386 - val_loss: 0.2437 - val_acc: 0.9097\n",
            "Epoch 14/50\n",
            "391/391 [==============================] - 11s 28ms/step - loss: 0.1696 - acc: 0.9417 - val_loss: 0.2304 - val_acc: 0.9165\n",
            "Epoch 15/50\n",
            "391/391 [==============================] - 10s 27ms/step - loss: 0.1621 - acc: 0.9442 - val_loss: 0.2246 - val_acc: 0.9220\n",
            "Epoch 16/50\n",
            "391/391 [==============================] - 10s 27ms/step - loss: 0.1513 - acc: 0.9499 - val_loss: 0.2417 - val_acc: 0.9138\n",
            "Epoch 17/50\n",
            "391/391 [==============================] - 10s 27ms/step - loss: 0.1452 - acc: 0.9510 - val_loss: 0.2227 - val_acc: 0.9208\n",
            "Epoch 18/50\n",
            "391/391 [==============================] - 11s 27ms/step - loss: 0.1372 - acc: 0.9542 - val_loss: 0.2231 - val_acc: 0.9213\n",
            "Epoch 19/50\n",
            "391/391 [==============================] - 10s 27ms/step - loss: 0.1302 - acc: 0.9564 - val_loss: 0.2326 - val_acc: 0.9182\n",
            "Epoch 20/50\n",
            "391/391 [==============================] - 10s 26ms/step - loss: 0.1241 - acc: 0.9597 - val_loss: 0.2230 - val_acc: 0.9204\n",
            "1/1 [==============================] - 1s 533ms/step - loss: 0.2412 - acc: 0.9158\n",
            "Epoch 1/50\n",
            "391/391 [==============================] - 12s 27ms/step - loss: 1.7796 - acc: 0.6083 - val_loss: 1.3109 - val_acc: 0.7833\n",
            "Epoch 2/50\n",
            "391/391 [==============================] - 11s 27ms/step - loss: 1.0014 - acc: 0.8203 - val_loss: 0.7481 - val_acc: 0.8409\n",
            "Epoch 3/50\n",
            "391/391 [==============================] - 11s 27ms/step - loss: 0.6093 - acc: 0.8583 - val_loss: 0.5111 - val_acc: 0.8674\n",
            "Epoch 4/50\n",
            "391/391 [==============================] - 10s 27ms/step - loss: 0.4398 - acc: 0.8794 - val_loss: 0.3955 - val_acc: 0.8872\n",
            "Epoch 5/50\n",
            "391/391 [==============================] - 11s 27ms/step - loss: 0.3560 - acc: 0.8942 - val_loss: 0.3344 - val_acc: 0.8973\n",
            "Epoch 6/50\n",
            "391/391 [==============================] - 11s 27ms/step - loss: 0.3063 - acc: 0.9039 - val_loss: 0.3079 - val_acc: 0.8995\n",
            "Epoch 7/50\n",
            "391/391 [==============================] - 11s 27ms/step - loss: 0.2739 - acc: 0.9109 - val_loss: 0.2897 - val_acc: 0.9020\n",
            "Epoch 8/50\n",
            "391/391 [==============================] - 11s 27ms/step - loss: 0.2489 - acc: 0.9182 - val_loss: 0.2636 - val_acc: 0.9099\n",
            "Epoch 9/50\n",
            "391/391 [==============================] - 11s 28ms/step - loss: 0.2309 - acc: 0.9230 - val_loss: 0.2552 - val_acc: 0.9141\n",
            "Epoch 10/50\n",
            "391/391 [==============================] - 11s 27ms/step - loss: 0.2150 - acc: 0.9284 - val_loss: 0.2392 - val_acc: 0.9170\n",
            "Epoch 11/50\n",
            "391/391 [==============================] - 11s 27ms/step - loss: 0.2017 - acc: 0.9330 - val_loss: 0.2378 - val_acc: 0.9187\n",
            "Epoch 12/50\n",
            "391/391 [==============================] - 11s 27ms/step - loss: 0.1909 - acc: 0.9352 - val_loss: 0.2554 - val_acc: 0.9103\n",
            "Epoch 13/50\n",
            "391/391 [==============================] - 11s 28ms/step - loss: 0.1800 - acc: 0.9400 - val_loss: 0.2275 - val_acc: 0.9171\n",
            "Epoch 14/50\n",
            "391/391 [==============================] - 11s 28ms/step - loss: 0.1703 - acc: 0.9423 - val_loss: 0.2224 - val_acc: 0.9214\n",
            "Epoch 15/50\n",
            "391/391 [==============================] - 11s 28ms/step - loss: 0.1611 - acc: 0.9456 - val_loss: 0.2181 - val_acc: 0.9211\n",
            "Epoch 16/50\n",
            "391/391 [==============================] - 11s 28ms/step - loss: 0.1530 - acc: 0.9488 - val_loss: 0.2192 - val_acc: 0.9229\n",
            "Epoch 17/50\n",
            "391/391 [==============================] - 11s 28ms/step - loss: 0.1450 - acc: 0.9517 - val_loss: 0.2137 - val_acc: 0.9218\n",
            "Epoch 18/50\n",
            "391/391 [==============================] - 11s 28ms/step - loss: 0.1371 - acc: 0.9550 - val_loss: 0.2167 - val_acc: 0.9212\n",
            "Epoch 19/50\n",
            "391/391 [==============================] - 11s 28ms/step - loss: 0.1309 - acc: 0.9562 - val_loss: 0.2193 - val_acc: 0.9215\n",
            "Epoch 20/50\n",
            "391/391 [==============================] - 11s 27ms/step - loss: 0.1220 - acc: 0.9594 - val_loss: 0.2188 - val_acc: 0.9222\n",
            "1/1 [==============================] - 1s 641ms/step - loss: 0.2419 - acc: 0.9158\n",
            "Epoch 1/50\n",
            "391/391 [==============================] - 13s 29ms/step - loss: 1.7573 - acc: 0.6363 - val_loss: 1.2446 - val_acc: 0.7744\n",
            "Epoch 2/50\n",
            "391/391 [==============================] - 11s 28ms/step - loss: 0.9476 - acc: 0.7937 - val_loss: 0.7178 - val_acc: 0.8138\n",
            "Epoch 3/50\n",
            "391/391 [==============================] - 11s 28ms/step - loss: 0.6071 - acc: 0.8402 - val_loss: 0.5095 - val_acc: 0.8528\n",
            "Epoch 4/50\n",
            "391/391 [==============================] - 11s 28ms/step - loss: 0.4499 - acc: 0.8726 - val_loss: 0.4046 - val_acc: 0.8771\n",
            "Epoch 5/50\n",
            "391/391 [==============================] - 11s 28ms/step - loss: 0.3635 - acc: 0.8905 - val_loss: 0.3472 - val_acc: 0.8882\n",
            "Epoch 6/50\n",
            "391/391 [==============================] - 11s 27ms/step - loss: 0.3123 - acc: 0.9028 - val_loss: 0.3106 - val_acc: 0.8996\n",
            "Epoch 7/50\n",
            "391/391 [==============================] - 11s 28ms/step - loss: 0.2775 - acc: 0.9113 - val_loss: 0.2948 - val_acc: 0.8963\n",
            "Epoch 8/50\n",
            "391/391 [==============================] - 11s 27ms/step - loss: 0.2550 - acc: 0.9152 - val_loss: 0.2711 - val_acc: 0.9080\n",
            "Epoch 9/50\n",
            "391/391 [==============================] - 11s 28ms/step - loss: 0.2336 - acc: 0.9221 - val_loss: 0.2647 - val_acc: 0.9080\n",
            "Epoch 10/50\n",
            "391/391 [==============================] - 11s 28ms/step - loss: 0.2174 - acc: 0.9275 - val_loss: 0.2495 - val_acc: 0.9133\n",
            "Epoch 11/50\n",
            "391/391 [==============================] - 11s 27ms/step - loss: 0.2052 - acc: 0.9311 - val_loss: 0.2635 - val_acc: 0.9069\n",
            "Epoch 12/50\n",
            "391/391 [==============================] - 11s 28ms/step - loss: 0.1937 - acc: 0.9347 - val_loss: 0.2371 - val_acc: 0.9175\n",
            "Epoch 13/50\n",
            "391/391 [==============================] - 10s 27ms/step - loss: 0.1822 - acc: 0.9380 - val_loss: 0.2409 - val_acc: 0.9137\n",
            "Epoch 14/50\n",
            "391/391 [==============================] - 11s 27ms/step - loss: 0.1726 - acc: 0.9408 - val_loss: 0.2327 - val_acc: 0.9167\n",
            "Epoch 15/50\n",
            "391/391 [==============================] - 11s 27ms/step - loss: 0.1641 - acc: 0.9434 - val_loss: 0.2272 - val_acc: 0.9197\n",
            "Epoch 16/50\n",
            "391/391 [==============================] - 11s 27ms/step - loss: 0.1560 - acc: 0.9468 - val_loss: 0.2400 - val_acc: 0.9143\n",
            "Epoch 17/50\n",
            "391/391 [==============================] - 10s 27ms/step - loss: 0.1479 - acc: 0.9498 - val_loss: 0.2289 - val_acc: 0.9164\n",
            "Epoch 18/50\n",
            "391/391 [==============================] - 11s 27ms/step - loss: 0.1398 - acc: 0.9517 - val_loss: 0.2471 - val_acc: 0.9129\n",
            "1/1 [==============================] - 1s 632ms/step - loss: 0.2534 - acc: 0.9119\n"
          ]
        }
      ]
    },
    {
      "cell_type": "code",
      "source": [
        "mean = np.mean(accuracy)\n",
        "var = np.var(accuracy)\n",
        "print(f\"the mean of 3 runs is {mean}, and the variance is {var}\")\n",
        "\n",
        "plt.boxplot(accuracy)"
      ],
      "metadata": {
        "colab": {
          "base_uri": "https://localhost:8080/",
          "height": 425
        },
        "id": "nojo7WnJwWFh",
        "outputId": "bce6ea91-bbcf-488d-b1f8-5751e7ebb5eb"
      },
      "execution_count": 26,
      "outputs": [
        {
          "output_type": "stream",
          "name": "stdout",
          "text": [
            "the mean of 3 runs is 0.9144999782244364, and the variance is 3.3799852880002213e-06\n"
          ]
        },
        {
          "output_type": "execute_result",
          "data": {
            "text/plain": [
              "{'boxes': [<matplotlib.lines.Line2D at 0x7fd3acf90a90>],\n",
              " 'caps': [<matplotlib.lines.Line2D at 0x7fd3ad11b810>,\n",
              "  <matplotlib.lines.Line2D at 0x7fd3ad11bd50>],\n",
              " 'fliers': [<matplotlib.lines.Line2D at 0x7fd3ad123850>],\n",
              " 'means': [],\n",
              " 'medians': [<matplotlib.lines.Line2D at 0x7fd3ad123310>],\n",
              " 'whiskers': [<matplotlib.lines.Line2D at 0x7fd3acef9110>,\n",
              "  <matplotlib.lines.Line2D at 0x7fd3ad11b2d0>]}"
            ]
          },
          "metadata": {},
          "execution_count": 26
        },
        {
          "output_type": "display_data",
          "data": {
            "text/plain": [
              "<Figure size 432x288 with 1 Axes>"
            ],
            "image/png": "[encoded data removed]"
          },
          "metadata": {
            "needs_background": "light"
          }
        }
      ]
    },
    {
      "cell_type": "markdown",
      "source": [
        "#### apply BN after post_activation: BN(g(f(x)))"
      ],
      "metadata": {
        "id": "Utysl_O9weRT"
      }
    },
    {
      "cell_type": "code",
      "source": [
        "num_classes = 10\n",
        "filter=64\n",
        "kernel=3 \n",
        "before_activation_bn = False\n",
        "\n",
        "accuracy = []\n",
        "for i in range(3):\n",
        "    tf.random.set_seed(i + 24)\n",
        "    model = ImageRecognitionCNN(num_classes, \n",
        "                                filter=filter,\n",
        "                                kernel=kernel, \n",
        "                                before_activation_bn=before_activation_bn)\n",
        "\n",
        "    optimizer = keras.optimizers.Adam(learning_rate=1e-4)\n",
        "    loss_fn = keras.losses.SparseCategoricalCrossentropy(from_logits=True)\n",
        "    acc = keras.metrics.SparseCategoricalAccuracy(name=\"acc\")\n",
        "\n",
        "    model.compile(optimizer, loss=loss_fn, metrics=[acc])\n",
        "    callback = keras.callbacks.EarlyStopping(monitor='val_loss', patience=3)\n",
        "    history = model.fit(x_train, y_train, epochs=50, batch_size=128,\n",
        "              validation_data=(x_val, y_val),\n",
        "              callbacks=[callback])\n",
        "\n",
        "    _, test_accuracy = model.evaluate(x_test, y_test, batch_size=len(x_test))\n",
        "    accuracy.append(test_accuracy)"
      ],
      "metadata": {
        "colab": {
          "base_uri": "https://localhost:8080/"
        },
        "id": "7d5Ris6Uwmcq",
        "outputId": "f8cd46e7-d1c4-4f56-b9ec-60aca5b7a3a8"
      },
      "execution_count": 27,
      "outputs": [
        {
          "output_type": "stream",
          "name": "stdout",
          "text": [
            "Epoch 1/50\n",
            "391/391 [==============================] - 13s 28ms/step - loss: 1.6355 - acc: 0.6689 - val_loss: 1.1108 - val_acc: 0.8044\n",
            "Epoch 2/50\n",
            "391/391 [==============================] - 11s 27ms/step - loss: 0.8247 - acc: 0.8272 - val_loss: 0.6148 - val_acc: 0.8453\n",
            "Epoch 3/50\n",
            "391/391 [==============================] - 11s 28ms/step - loss: 0.5176 - acc: 0.8653 - val_loss: 0.4445 - val_acc: 0.8722\n",
            "Epoch 4/50\n",
            "391/391 [==============================] - 11s 28ms/step - loss: 0.3904 - acc: 0.8846 - val_loss: 0.3714 - val_acc: 0.8868\n",
            "Epoch 5/50\n",
            "391/391 [==============================] - 11s 27ms/step - loss: 0.3267 - acc: 0.8978 - val_loss: 0.3259 - val_acc: 0.8915\n",
            "Epoch 6/50\n",
            "391/391 [==============================] - 11s 27ms/step - loss: 0.2883 - acc: 0.9074 - val_loss: 0.2989 - val_acc: 0.8982\n",
            "Epoch 7/50\n",
            "391/391 [==============================] - 11s 27ms/step - loss: 0.2624 - acc: 0.9120 - val_loss: 0.2755 - val_acc: 0.9042\n",
            "Epoch 8/50\n",
            "391/391 [==============================] - 10s 26ms/step - loss: 0.2408 - acc: 0.9178 - val_loss: 0.2646 - val_acc: 0.9072\n",
            "Epoch 9/50\n",
            "391/391 [==============================] - 11s 27ms/step - loss: 0.2254 - acc: 0.9223 - val_loss: 0.2610 - val_acc: 0.9071\n",
            "Epoch 10/50\n",
            "391/391 [==============================] - 10s 27ms/step - loss: 0.2105 - acc: 0.9272 - val_loss: 0.2585 - val_acc: 0.9073\n",
            "Epoch 11/50\n",
            "391/391 [==============================] - 11s 27ms/step - loss: 0.1973 - acc: 0.9311 - val_loss: 0.2491 - val_acc: 0.9127\n",
            "Epoch 12/50\n",
            "391/391 [==============================] - 11s 27ms/step - loss: 0.1865 - acc: 0.9357 - val_loss: 0.2498 - val_acc: 0.9087\n",
            "Epoch 13/50\n",
            "391/391 [==============================] - 10s 27ms/step - loss: 0.1772 - acc: 0.9381 - val_loss: 0.2461 - val_acc: 0.9141\n",
            "Epoch 14/50\n",
            "391/391 [==============================] - 11s 27ms/step - loss: 0.1662 - acc: 0.9431 - val_loss: 0.2427 - val_acc: 0.9145\n",
            "Epoch 15/50\n",
            "391/391 [==============================] - 11s 27ms/step - loss: 0.1579 - acc: 0.9453 - val_loss: 0.2474 - val_acc: 0.9120\n",
            "Epoch 16/50\n",
            "391/391 [==============================] - 11s 28ms/step - loss: 0.1486 - acc: 0.9483 - val_loss: 0.2442 - val_acc: 0.9153\n",
            "Epoch 17/50\n",
            "391/391 [==============================] - 11s 29ms/step - loss: 0.1406 - acc: 0.9519 - val_loss: 0.2510 - val_acc: 0.9121\n",
            "1/1 [==============================] - 1s 619ms/step - loss: 0.2656 - acc: 0.9061\n",
            "Epoch 1/50\n",
            "391/391 [==============================] - 12s 28ms/step - loss: 1.7705 - acc: 0.6909 - val_loss: 1.3253 - val_acc: 0.8030\n",
            "Epoch 2/50\n",
            "391/391 [==============================] - 11s 27ms/step - loss: 1.0015 - acc: 0.8265 - val_loss: 0.7611 - val_acc: 0.8473\n",
            "Epoch 3/50\n",
            "391/391 [==============================] - 11s 27ms/step - loss: 0.6051 - acc: 0.8629 - val_loss: 0.4986 - val_acc: 0.8701\n",
            "Epoch 4/50\n",
            "391/391 [==============================] - 11s 27ms/step - loss: 0.4383 - acc: 0.8807 - val_loss: 0.4049 - val_acc: 0.8786\n",
            "Epoch 5/50\n",
            "391/391 [==============================] - 11s 27ms/step - loss: 0.3573 - acc: 0.8934 - val_loss: 0.3486 - val_acc: 0.8882\n",
            "Epoch 6/50\n",
            "391/391 [==============================] - 11s 27ms/step - loss: 0.3146 - acc: 0.9007 - val_loss: 0.3184 - val_acc: 0.8926\n",
            "Epoch 7/50\n",
            "391/391 [==============================] - 11s 27ms/step - loss: 0.2807 - acc: 0.9099 - val_loss: 0.3072 - val_acc: 0.8927\n",
            "Epoch 8/50\n",
            "391/391 [==============================] - 10s 27ms/step - loss: 0.2616 - acc: 0.9132 - val_loss: 0.2908 - val_acc: 0.8999\n",
            "Epoch 9/50\n",
            "391/391 [==============================] - 11s 27ms/step - loss: 0.2428 - acc: 0.9179 - val_loss: 0.2774 - val_acc: 0.9022\n",
            "Epoch 10/50\n",
            "391/391 [==============================] - 10s 27ms/step - loss: 0.2280 - acc: 0.9233 - val_loss: 0.2792 - val_acc: 0.9002\n",
            "Epoch 11/50\n",
            "391/391 [==============================] - 11s 27ms/step - loss: 0.2149 - acc: 0.9262 - val_loss: 0.2591 - val_acc: 0.9099\n",
            "Epoch 12/50\n",
            "391/391 [==============================] - 10s 27ms/step - loss: 0.2037 - acc: 0.9304 - val_loss: 0.2592 - val_acc: 0.9075\n",
            "Epoch 13/50\n",
            "391/391 [==============================] - 10s 27ms/step - loss: 0.1926 - acc: 0.9341 - val_loss: 0.2643 - val_acc: 0.9108\n",
            "Epoch 14/50\n",
            "391/391 [==============================] - 11s 27ms/step - loss: 0.1830 - acc: 0.9363 - val_loss: 0.2534 - val_acc: 0.9121\n",
            "Epoch 15/50\n",
            "391/391 [==============================] - 11s 28ms/step - loss: 0.1738 - acc: 0.9397 - val_loss: 0.2553 - val_acc: 0.9117\n",
            "Epoch 16/50\n",
            "391/391 [==============================] - 11s 27ms/step - loss: 0.1663 - acc: 0.9422 - val_loss: 0.2442 - val_acc: 0.9147\n",
            "Epoch 17/50\n",
            "391/391 [==============================] - 11s 27ms/step - loss: 0.1560 - acc: 0.9464 - val_loss: 0.2474 - val_acc: 0.9124\n",
            "Epoch 18/50\n",
            "391/391 [==============================] - 11s 27ms/step - loss: 0.1512 - acc: 0.9477 - val_loss: 0.2499 - val_acc: 0.9141\n",
            "Epoch 19/50\n",
            "391/391 [==============================] - 11s 27ms/step - loss: 0.1431 - acc: 0.9514 - val_loss: 0.2573 - val_acc: 0.9131\n",
            "1/1 [==============================] - 1s 556ms/step - loss: 0.2811 - acc: 0.9038\n",
            "Epoch 1/50\n",
            "391/391 [==============================] - 12s 28ms/step - loss: 1.7272 - acc: 0.6555 - val_loss: 1.2305 - val_acc: 0.8148\n",
            "Epoch 2/50\n",
            "391/391 [==============================] - 11s 27ms/step - loss: 0.9257 - acc: 0.8358 - val_loss: 0.6933 - val_acc: 0.8514\n",
            "Epoch 3/50\n",
            "391/391 [==============================] - 11s 27ms/step - loss: 0.5592 - acc: 0.8703 - val_loss: 0.4781 - val_acc: 0.8720\n",
            "Epoch 4/50\n",
            "391/391 [==============================] - 11s 27ms/step - loss: 0.4102 - acc: 0.8877 - val_loss: 0.3881 - val_acc: 0.8829\n",
            "Epoch 5/50\n",
            "391/391 [==============================] - 11s 27ms/step - loss: 0.3363 - acc: 0.9002 - val_loss: 0.3400 - val_acc: 0.8881\n",
            "Epoch 6/50\n",
            "391/391 [==============================] - 11s 27ms/step - loss: 0.2956 - acc: 0.9069 - val_loss: 0.3109 - val_acc: 0.8955\n",
            "Epoch 7/50\n",
            "391/391 [==============================] - 11s 27ms/step - loss: 0.2653 - acc: 0.9134 - val_loss: 0.2884 - val_acc: 0.9000\n",
            "Epoch 8/50\n",
            "391/391 [==============================] - 11s 27ms/step - loss: 0.2445 - acc: 0.9182 - val_loss: 0.2700 - val_acc: 0.9083\n",
            "Epoch 9/50\n",
            "391/391 [==============================] - 11s 28ms/step - loss: 0.2269 - acc: 0.9233 - val_loss: 0.2625 - val_acc: 0.9095\n",
            "Epoch 10/50\n",
            "391/391 [==============================] - 11s 27ms/step - loss: 0.2131 - acc: 0.9285 - val_loss: 0.2584 - val_acc: 0.9103\n",
            "Epoch 11/50\n",
            "391/391 [==============================] - 11s 28ms/step - loss: 0.1996 - acc: 0.9315 - val_loss: 0.2558 - val_acc: 0.9097\n",
            "Epoch 12/50\n",
            "391/391 [==============================] - 11s 27ms/step - loss: 0.1889 - acc: 0.9346 - val_loss: 0.2537 - val_acc: 0.9126\n",
            "Epoch 13/50\n",
            "391/391 [==============================] - 11s 27ms/step - loss: 0.1778 - acc: 0.9391 - val_loss: 0.2502 - val_acc: 0.9123\n",
            "Epoch 14/50\n",
            "391/391 [==============================] - 11s 28ms/step - loss: 0.1686 - acc: 0.9419 - val_loss: 0.2597 - val_acc: 0.9080\n",
            "Epoch 15/50\n",
            "391/391 [==============================] - 11s 27ms/step - loss: 0.1600 - acc: 0.9447 - val_loss: 0.2566 - val_acc: 0.9099\n",
            "Epoch 16/50\n",
            "391/391 [==============================] - 11s 28ms/step - loss: 0.1508 - acc: 0.9482 - val_loss: 0.2514 - val_acc: 0.9114\n",
            "1/1 [==============================] - 1s 555ms/step - loss: 0.2805 - acc: 0.9039\n"
          ]
        }
      ]
    },
    {
      "cell_type": "code",
      "source": [
        "mean = np.mean(accuracy)\n",
        "var = np.var(accuracy)\n",
        "print(f\"the mean of 3 runs is {mean}, and the variance is {var}\")\n",
        "\n",
        "plt.boxplot(accuracy)"
      ],
      "metadata": {
        "colab": {
          "base_uri": "https://localhost:8080/",
          "height": 425
        },
        "id": "kMqU7JkAwrnW",
        "outputId": "a641bd7a-31ea-4d77-e47b-47df27798f0a"
      },
      "execution_count": 28,
      "outputs": [
        {
          "output_type": "stream",
          "name": "stdout",
          "text": [
            "the mean of 3 runs is 0.9046000043551127, and the variance is 1.1266233512527733e-06\n"
          ]
        },
        {
          "output_type": "execute_result",
          "data": {
            "text/plain": [
              "{'boxes': [<matplotlib.lines.Line2D at 0x7fd3aa6e3d90>],\n",
              " 'caps': [<matplotlib.lines.Line2D at 0x7fd3aa6ec850>,\n",
              "  <matplotlib.lines.Line2D at 0x7fd3aa6ecd90>],\n",
              " 'fliers': [<matplotlib.lines.Line2D at 0x7fd3aa6f6890>],\n",
              " 'means': [],\n",
              " 'medians': [<matplotlib.lines.Line2D at 0x7fd3aa6f6350>],\n",
              " 'whiskers': [<matplotlib.lines.Line2D at 0x7fd3ad048950>,\n",
              "  <matplotlib.lines.Line2D at 0x7fd3aa6ec310>]}"
            ]
          },
          "metadata": {},
          "execution_count": 28
        },
        {
          "output_type": "display_data",
          "data": {
            "text/plain": [
              "<Figure size 432x288 with 1 Axes>"
            ],
            "image/png": "[encoded data removed]"
          },
          "metadata": {
            "needs_background": "light"
          }
        }
      ]
    }
  ]
}